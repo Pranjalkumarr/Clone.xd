{
 "cells": [
  {
   "cell_type": "markdown",
   "id": "564927f8-e541-4f4a-ae23-8ec101901fc4",
   "metadata": {},
   "source": [
    "Q1. What is multithreading in python? Why is it used? Name the module used to handle threads in python."
   ]
  },
  {
   "cell_type": "markdown",
   "id": "63ca575b-ebf4-4f98-90ab-ba025d67e0d4",
   "metadata": {},
   "source": [
    "Ans -\n",
    "\n",
    "Multithreading in Python refers to the execution of multiple threads within a single process. It is used to improve the performance of the applications. The primary module used to handle threads in Python is \"threading\".\n",
    "\n",
    "Q2. Why threading module used? Write the use of the following functions :\n",
    "\n",
    "1. activeCount()\n",
    "2. currentThread()\n",
    "3. enumerate()\n",
    "\n",
    "Ans -\n",
    "\n",
    "The threading module in Python is used for working with threads\n",
    "\n",
    "1. activeCount() :\n",
    "It is a function that returns the number of Thread objects currently alive.\n",
    "\n",
    "2. currentThread() :\n",
    "It is a function that returns the currently executing Thread object.\n",
    "\n",
    "3. enumerate() :\n",
    "It is used to return the list of all the Thread class objects which are currently alive.\n",
    "\n",
    "Q3. Explain the following functions\n",
    "1. run\n",
    "2. start\n",
    "3. join\n",
    "4. isAlive\n",
    "\n",
    "Ans - \n",
    "\n",
    "\n",
    "1. run : The \"run\" method in Python is used to define the code that should be executed when a thread is started. It is the entry point for thread execution.\n",
    "\n",
    "2. start : The \"start\" method is used to initiate the execution of a thread, causing it to begin executing its run method concurrently with other threads.\n",
    "\n",
    "3. join : The \"join\" method is used to wait for a thread to complete its execution before allowing the program to continue, effectively synchronizing the main thread with the specified thread.\n",
    "\n",
    "4. isAlive : The \"isAlive\" method is used to check whether a thread is currently active and executing its code. It returns True if the thread is alive and False otherwise."
   ]
  },
  {
   "cell_type": "markdown",
   "id": "78750dc1-07a3-4f2a-a9c1-428643ec42df",
   "metadata": {},
   "source": [
    "Q4. Write a python program to create two threads. Thread one must print the list of squares and thread\n",
    "two must print the list of cubes."
   ]
  },
  {
   "cell_type": "code",
   "execution_count": 3,
   "id": "d6a19596-6ce5-4a9e-9428-598c8e75e134",
   "metadata": {},
   "outputs": [
    {
     "name": "stdout",
     "output_type": "stream",
     "text": [
      "Square of 1: 1\n",
      "Square of 2: 4\n",
      "Square of 3: 9\n",
      "Square of 4: 16\n",
      "Square of 5: 25\n",
      "Cube of 1: 1\n",
      "Cube of 2: 8\n",
      "Cube of 3: 27\n",
      "Cube of 4: 64\n",
      "Cube of 5: 125\n"
     ]
    }
   ],
   "source": [
    "import threading\n",
    "\n",
    "def print_squares():\n",
    "    for i in range(1, 6):\n",
    "        print(f\"Square of {i}: {i ** 2}\")\n",
    "\n",
    "def print_cubes():\n",
    "    for i in range(1, 6):\n",
    "        print(f\"Cube of {i}: {i ** 3}\")\n",
    "\n",
    "thread1 = threading.Thread(target=print_squares)\n",
    "thread2 = threading.Thread(target=print_cubes)\n",
    "\n",
    "thread1.start()\n",
    "thread2.start()\n",
    "\n",
    "thread1.join()\n",
    "thread2.join()"
   ]
  },
  {
   "cell_type": "markdown",
   "id": "d0832e09-cb87-4517-9b52-5d1e995138bf",
   "metadata": {},
   "source": [
    "Q5. State advantages and disadvantages of multithreading.\n",
    "\n",
    "Ans - \n",
    "\n",
    "1. Advantages of Multithreading :-\n",
    "\n",
    "- Improved Performance: Utilizes multiple CPU cores for faster execution.\n",
    "- Resource Sharing: Threads can easily share data and resources.\n",
    "\n",
    "2. Disadvantages of Multithreading :-\n",
    "\n",
    "- Complexity: Writing and debugging multithreaded code can be complex.\n",
    "- Debugging Challenges: Debugging multithreaded applications can be challenging.\n",
    "- Design Complexity: Multithreaded application design requires careful planning."
   ]
  },
  {
   "cell_type": "markdown",
   "id": "164a8498-15df-4c8d-ba09-b1813caf1e3d",
   "metadata": {},
   "source": [
    "\n",
    "Q6. Explain deadlocks and race conditions.\n",
    "\n",
    "Ans - \n",
    "\n",
    "- deadlocks - If two or more processes are waiting on happening some event, but that event doesn't happen, that is called the deadlock. And, those two processes are on a deadlock state.\n",
    "- race conditions - It occurs when two threads access a shared variable at the same time."
   ]
  },
  {
   "cell_type": "code",
   "execution_count": null,
   "id": "363f407d-53b0-4265-a763-8eb5807cdc49",
   "metadata": {},
   "outputs": [],
   "source": []
  },
  {
   "cell_type": "code",
   "execution_count": null,
   "id": "2801d2c1-313d-461e-9e3f-3cf6f85e8951",
   "metadata": {},
   "outputs": [],
   "source": []
  },
  {
   "cell_type": "code",
   "execution_count": null,
   "id": "ce5c6031-296d-4ee5-a0f1-5f52714c8427",
   "metadata": {},
   "outputs": [],
   "source": []
  }
 ],
 "metadata": {
  "kernelspec": {
   "display_name": "Python 3 (ipykernel)",
   "language": "python",
   "name": "python3"
  },
  "language_info": {
   "codemirror_mode": {
    "name": "ipython",
    "version": 3
   },
   "file_extension": ".py",
   "mimetype": "text/x-python",
   "name": "python",
   "nbconvert_exporter": "python",
   "pygments_lexer": "ipython3",
   "version": "3.10.8"
  }
 },
 "nbformat": 4,
 "nbformat_minor": 5
}
