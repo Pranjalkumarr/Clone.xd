{
 "cells": [
  {
   "cell_type": "markdown",
   "id": "9647d3f1-c80f-4d1e-aa95-9ace2d56855c",
   "metadata": {},
   "source": [
    "Q1. Create a vehicle class with an init method having instance variables as name_of_vehicle, max_speed\n",
    "and average_of_vehicle."
   ]
  },
  {
   "cell_type": "code",
   "execution_count": 3,
   "id": "9cbf6223-bb28-4bb8-8abf-925bbfe1f5d2",
   "metadata": {},
   "outputs": [],
   "source": [
    "class vehicle:\n",
    "    def __init__(self, name_of_vehicle, max_speed, average_of_vehicle):\n",
    "        self.name_of_vehicle = name_of_vehicle\n",
    "        self.max_speed = max_speed\n",
    "        self.average_of_vehicle = average_of_vehicle\n",
    "\n",
    "car1 = vehicle(\"Car Model X\", 200, 80)\n",
    "car2 = vehicle(\"Truck Model Y\", 150, 60)"
   ]
  },
  {
   "cell_type": "markdown",
   "id": "95607e7a-8a16-4a1c-863a-76b4789d7ab7",
   "metadata": {},
   "source": [
    "Q2. Create a child class car from the vehicle class created in Que 1, which will inherit the vehicle class.\n",
    "Create a method named seating_capacity which takes capacity as an argument and returns the name of\n",
    "the vehicle and its seating capacity."
   ]
  },
  {
   "cell_type": "code",
   "execution_count": 4,
   "id": "f622a0cb-75ad-4467-aadb-78fbe96c55fd",
   "metadata": {},
   "outputs": [
    {
     "name": "stdout",
     "output_type": "stream",
     "text": [
      "Djx - Seating capacity : 15\n"
     ]
    }
   ],
   "source": [
    "class vehicle:\n",
    "    def __init__(self, name_of_vehicle, max_speed, average_of_vehicle):\n",
    "        self.name_of_vehicle = name_of_vehicle\n",
    "        self.max_speed = max_speed\n",
    "        self.average_of_vehicle = average_of_vehicle\n",
    "\n",
    "    def seating_capacity(self, capacity):\n",
    "        print(f\"{self.name_of_vehicle} - Seating capacity : {capacity}\")\n",
    "\n",
    "car = vehicle(\"Djx\", 250, 50)\n",
    "car.seating_capacity(15)"
   ]
  },
  {
   "cell_type": "markdown",
   "id": "fb9fc93c-45e6-481f-9f0d-75728bdade25",
   "metadata": {},
   "source": [
    "Q3. What is multiple inheritance? Write a python code to demonstrate multiple inheritance."
   ]
  },
  {
   "cell_type": "markdown",
   "id": "f5bdd2c7-afb4-4c47-93e3-491fac540b3d",
   "metadata": {},
   "source": [
    "Ans :-\n",
    "\n",
    "In Python, multiple inheritance refers to a feature where a class can inherit properties and behaviors from more than one parent class. This means that a child class can be derived from multiple base classes, allowing it to access the attributes and methods from all of them."
   ]
  },
  {
   "cell_type": "code",
   "execution_count": 6,
   "id": "fbb0d1c8-2e76-41c5-a557-681f7ec712e8",
   "metadata": {},
   "outputs": [
    {
     "name": "stdout",
     "output_type": "stream",
     "text": [
      "class1\n",
      "class2\n"
     ]
    }
   ],
   "source": [
    "# Multiple inheritance\n",
    "class class1:\n",
    "    def test_class1(self):\n",
    "        return \"class1\"        \n",
    "    \n",
    "class class2:\n",
    "    def test_class2(self):\n",
    "        return \"class2\"      \n",
    "\n",
    "class class3(class1, class2):\n",
    "    pass\n",
    "\n",
    "obj_class3 = class3()\n",
    "print(obj_class3.test_class1())\n",
    "print(obj_class3.test_class2())"
   ]
  },
  {
   "cell_type": "markdown",
   "id": "0da40f3f-2b54-4714-852a-8d7d2be9ff3c",
   "metadata": {},
   "source": [
    "Q4. What are getter and setter in python? Create a class and create a getter and a setter method in this\n",
    "class."
   ]
  },
  {
   "cell_type": "markdown",
   "id": "e3f9e72c-c3c1-4bdc-8683-7dac69a522c8",
   "metadata": {},
   "source": [
    "Ans :-\n",
    "\n",
    "In Python, getters and setters are methods used to access and modify the private attributes of a class. They provide controlled access to the class attributes and help in encapsulating the data.\n",
    "\n",
    "A getter method, typically named with a prefix 'get_', allows us to retrieve the value of a private attribute. It returns the value of the attribute.\n",
    "\n",
    "A setter method, typically named with a prefix 'set_', allows us to set the value of a private attribute. It takes an argument and assigns it to the attribute after some validation or checks."
   ]
  },
  {
   "cell_type": "code",
   "execution_count": 8,
   "id": "b8a8fdac-8125-45e7-b842-dae6a439878e",
   "metadata": {},
   "outputs": [
    {
     "name": "stdout",
     "output_type": "stream",
     "text": [
      "1000\n",
      "1500\n",
      "Invalid balance!\n"
     ]
    }
   ],
   "source": [
    "class BankAccount:\n",
    "    def __init__(self, account_number, balance):\n",
    "        self.account_number = account_number\n",
    "        self.__balance = balance  \n",
    "\n",
    "    def get_balance(self):\n",
    "        return self.__balance\n",
    "\n",
    "    def set_balance(self, new_balance):\n",
    "        if new_balance >= 0:\n",
    "            self.__balance = new_balance\n",
    "        else:\n",
    "            print(\"Invalid balance!\")\n",
    "\n",
    "account = BankAccount(\"123456789\", 1000)\n",
    "\n",
    "print(account.get_balance()) \n",
    "account.set_balance(1500)\n",
    "print(account.get_balance())  \n",
    "account.set_balance(-200)  "
   ]
  },
  {
   "cell_type": "markdown",
   "id": "f1aaa68e-80b8-4868-b55a-416770655911",
   "metadata": {},
   "source": [
    "Q5.What is method overriding in python? Write a python code to demonstrate method overriding."
   ]
  },
  {
   "cell_type": "code",
   "execution_count": null,
   "id": "e325f1fd-e05b-4a38-b313-c893b1540aa4",
   "metadata": {},
   "outputs": [],
   "source": []
  }
 ],
 "metadata": {
  "kernelspec": {
   "display_name": "Python 3 (ipykernel)",
   "language": "python",
   "name": "python3"
  },
  "language_info": {
   "codemirror_mode": {
    "name": "ipython",
    "version": 3
   },
   "file_extension": ".py",
   "mimetype": "text/x-python",
   "name": "python",
   "nbconvert_exporter": "python",
   "pygments_lexer": "ipython3",
   "version": "3.10.8"
  }
 },
 "nbformat": 4,
 "nbformat_minor": 5
}
