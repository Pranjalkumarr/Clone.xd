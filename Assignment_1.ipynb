{
 "cells": [
  {
   "cell_type": "markdown",
   "id": "e820cb26-24df-4a02-a2c2-51921ae577dc",
   "metadata": {},
   "source": [
    "Q1. Create one variable containing following type of data:\n",
    "\n",
    "(i)   string\n",
    "(ii)  list\n",
    "(iii) float\n",
    "(iv)  tuple"
   ]
  },
  {
   "cell_type": "code",
   "execution_count": 10,
   "id": "7db4bdd8-ca30-4c23-8455-60c7c88ec1f6",
   "metadata": {},
   "outputs": [],
   "source": [
    "a = \"pranjal\"\n",
    "b = [1, 2, 3, 4, 5]\n",
    "c = 5.5\n",
    "d = (1, 2, 3, 4, 5)"
   ]
  },
  {
   "cell_type": "markdown",
   "id": "76eae446-3339-4c60-a03b-6ce63c7b2fcd",
   "metadata": {
    "tags": []
   },
   "source": [
    "Q2. Given are some following variables containing data:\n",
    "\n",
    "(i)\t  var1 = ' '\n",
    "(ii)  var2 = '[DS, ML, Python]'\n",
    "(iii) var3 = ['DS', 'ML', 'Python']\n",
    "(iv)  var4 = 1.\n",
    "\n",
    "What will be the data type of the above given variables ?"
   ]
  },
  {
   "cell_type": "markdown",
   "id": "fa5f233c-1451-491e-a34c-688b7e5e2381",
   "metadata": {},
   "source": [
    "(i)   var1 is a string.\n",
    "(ii)  var2 is also a string.\n",
    "(iii) var3 is a list.\n",
    "(iv)  var4 is a float point number."
   ]
  },
  {
   "cell_type": "markdown",
   "id": "a06cd0f6-dbb7-43e3-aa1f-2413f49dbca5",
   "metadata": {},
   "source": [
    "Q3. Explain the use of the following operators using an example:\n",
    "\n",
    "(i)\t  /\n",
    "(ii)  % \n",
    "(iii) //\n",
    "(iv)  **"
   ]
  },
  {
   "cell_type": "markdown",
   "id": "a1ac236c-a79e-41f4-8154-851675813eb0",
   "metadata": {},
   "source": [
    "(i) '/'  -> Divides the first operand by the second operand, this operator gives always a float number, no matter if two numbers are integers."
   ]
  },
  {
   "cell_type": "code",
   "execution_count": 15,
   "id": "844c5e81-f61c-4388-8434-5ac053d7b425",
   "metadata": {},
   "outputs": [
    {
     "data": {
      "text/plain": [
       "2.5"
      ]
     },
     "execution_count": 15,
     "metadata": {},
     "output_type": "execute_result"
    }
   ],
   "source": [
    "5/2"
   ]
  },
  {
   "cell_type": "markdown",
   "id": "9517ce07-aa88-4b55-929a-da7c5badca01",
   "metadata": {},
   "source": [
    "(ii) '%'  -> It returns the remainder when the first operand is divided by the second operand."
   ]
  },
  {
   "cell_type": "code",
   "execution_count": 16,
   "id": "41956602-b79f-41e1-b521-87ebc5da03ce",
   "metadata": {},
   "outputs": [
    {
     "data": {
      "text/plain": [
       "1"
      ]
     },
     "execution_count": 16,
     "metadata": {},
     "output_type": "execute_result"
    }
   ],
   "source": [
    "5%2"
   ]
  },
  {
   "cell_type": "markdown",
   "id": "a3822423-4508-4440-8eef-21576c6889d4",
   "metadata": {},
   "source": [
    "(iii) '//' -> Divides the first operand by the second operand and rounds the result down to the nearest integer."
   ]
  },
  {
   "cell_type": "code",
   "execution_count": 17,
   "id": "bb8af277-6447-4490-8a5f-aee2ceb40067",
   "metadata": {},
   "outputs": [
    {
     "data": {
      "text/plain": [
       "2"
      ]
     },
     "execution_count": 17,
     "metadata": {},
     "output_type": "execute_result"
    }
   ],
   "source": [
    "5//2"
   ]
  },
  {
   "cell_type": "markdown",
   "id": "dfbf39fe-543c-42a2-96e8-ace0adaff452",
   "metadata": {},
   "source": [
    "(iv) '**' -> It calculates the first operand's power to the second operand, it is an exponent operator."
   ]
  },
  {
   "cell_type": "code",
   "execution_count": 18,
   "id": "b61aa7cf-bf91-43be-a7ab-c0e3d306f3e6",
   "metadata": {},
   "outputs": [
    {
     "data": {
      "text/plain": [
       "25"
      ]
     },
     "execution_count": 18,
     "metadata": {},
     "output_type": "execute_result"
    }
   ],
   "source": [
    "5**2"
   ]
  },
  {
   "cell_type": "markdown",
   "id": "8ed937a7-f3a7-4ead-82f0-a332886f7688",
   "metadata": {},
   "source": [
    "Q4. Create a list of length 10 of your choice containing multiple types of data. Using for loop print the element and its data type."
   ]
  },
  {
   "cell_type": "code",
   "execution_count": 3,
   "id": "b6db2cf0-0803-47f1-a094-dea3349db3d3",
   "metadata": {},
   "outputs": [
    {
     "name": "stdout",
     "output_type": "stream",
     "text": [
      "9\n",
      "<class 'int'>\n",
      "\n",
      "5.5\n",
      "<class 'float'>\n",
      "\n",
      "pranjal\n",
      "<class 'str'>\n",
      "\n",
      "True\n",
      "<class 'bool'>\n",
      "\n",
      "[1, 2]\n",
      "<class 'list'>\n",
      "\n",
      "(1, 2)\n",
      "<class 'tuple'>\n",
      "\n",
      "{1, 2}\n",
      "<class 'set'>\n",
      "\n",
      "{}\n",
      "<class 'dict'>\n",
      "\n",
      "96\n",
      "<class 'int'>\n",
      "\n",
      "False\n",
      "<class 'bool'>\n",
      "\n"
     ]
    }
   ],
   "source": [
    "a = [9, 5.5, \"pranjal\", True, [1, 2], (1, 2), {1, 2}, {}, 96, False]\n",
    "\n",
    "for i in a:\n",
    "    print(i)\n",
    "    print(type(i))\n",
    "    print()"
   ]
  },
  {
   "cell_type": "markdown",
   "id": "d2398e32-4364-4053-9572-ab7f733a512b",
   "metadata": {},
   "source": [
    "Q5. Using a while loop, verify if the number A is purely divisible by number B and if so then how many times it can be divisible."
   ]
  },
  {
   "cell_type": "code",
   "execution_count": null,
   "id": "6190e285-14ab-4724-b202-5abce35db8fd",
   "metadata": {},
   "outputs": [],
   "source": [
    "a = int(input(\"a : \"))\n",
    "b = int(input(\"b : \"))\n",
    "\n",
    "x = a\n",
    "count = 0\n",
    "\n",
    "while (a % b == 0):\n",
    "    a = a / b\n",
    "    count = count + 1\n",
    "\n",
    "if count > 0:\n",
    "    print(f\"{x} is divisible by {b}, {count} times.\")\n",
    "\n",
    "else:\n",
    "    print(f\"{x} is not divisible by {b}.\")"
   ]
  },
  {
   "cell_type": "markdown",
   "id": "2d2615dc-c141-4c38-844d-0f76a138ba50",
   "metadata": {},
   "source": [
    "Q6. Create a list containing 25 int type data. Using for loop and if-else condition print if the element is divisible by 3 or not."
   ]
  },
  {
   "cell_type": "code",
   "execution_count": 1,
   "id": "569b0c84-14f2-4e7b-b763-b1770be5957c",
   "metadata": {},
   "outputs": [
    {
     "name": "stdout",
     "output_type": "stream",
     "text": [
      "11 is not divisible by 3.\n",
      "2 is not divisible by 3.\n",
      "31 is not divisible by 3.\n",
      "5 is not divisible by 3.\n",
      "6 is divisible by 3.\n",
      "8 is not divisible by 3.\n",
      "4 is not divisible by 3.\n",
      "90 is divisible by 3.\n",
      "9 is divisible by 3.\n",
      "234 is divisible by 3.\n",
      "12 is divisible by 3.\n",
      "68 is not divisible by 3.\n",
      "34 is not divisible by 3.\n",
      "56 is not divisible by 3.\n",
      "78 is divisible by 3.\n",
      "906 is divisible by 3.\n",
      "43 is not divisible by 3.\n",
      "42 is divisible by 3.\n",
      "55 is not divisible by 3.\n",
      "21 is divisible by 3.\n",
      "132 is divisible by 3.\n",
      "23 is not divisible by 3.\n",
      "81 is divisible by 3.\n",
      "55 is not divisible by 3.\n",
      "32 is not divisible by 3.\n"
     ]
    }
   ],
   "source": [
    "list = [11, 2, 31, 5, 6, 8, 4, 90, 9, 234, 12, 68, 34, 56, 78, 906, 43, 42, 55, 21, 132, 23, 81, 55, 32]\n",
    "\n",
    "for i in list:\n",
    "\n",
    "    if (i%3 == 0):\n",
    "        print(f\"{i} is divisible by 3.\")\n",
    "    else:\n",
    "        print(f\"{i} is not divisible by 3.\")"
   ]
  },
  {
   "cell_type": "markdown",
   "id": "99fe6e40-d6c0-4016-9f52-e3bf5fa41161",
   "metadata": {},
   "source": [
    "Q7. What do you understand about mutable and immutable data types? Give examples for both showing this property."
   ]
  },
  {
   "cell_type": "markdown",
   "id": "8a51db7d-7422-4fb8-b0a5-af10fe06f54b",
   "metadata": {},
   "source": [
    "-> A datatype that allows us to change its values without changing its identity is a mutable datatype."
   ]
  },
  {
   "cell_type": "code",
   "execution_count": 2,
   "id": "8a2d04d3-ae60-4435-bd00-3fbdb86c0fe2",
   "metadata": {},
   "outputs": [
    {
     "name": "stdout",
     "output_type": "stream",
     "text": [
      "[10000, 3, 52, True, (7+7j), 'Pranjal']\n"
     ]
    }
   ],
   "source": [
    "p = [1, 3, 52, True, 7+7j, \"Pranjal\"]\n",
    "\n",
    "p[0] = 10000\n",
    "print(p)"
   ]
  },
  {
   "cell_type": "markdown",
   "id": "c862440e-f37c-4d30-8218-826e3f74c8b6",
   "metadata": {},
   "source": [
    "-> A datatype that doesn't allow changes in its value is an immutable datatype."
   ]
  },
  {
   "cell_type": "code",
   "execution_count": 3,
   "id": "8c11bbd8-c850-47bb-b660-77b03122dae3",
   "metadata": {},
   "outputs": [
    {
     "ename": "TypeError",
     "evalue": "'str' object does not support item assignment",
     "output_type": "error",
     "traceback": [
      "\u001b[0;31m---------------------------------------------------------------------------\u001b[0m",
      "\u001b[0;31mTypeError\u001b[0m                                 Traceback (most recent call last)",
      "Cell \u001b[0;32mIn[3], line 2\u001b[0m\n\u001b[1;32m      1\u001b[0m l \u001b[38;5;241m=\u001b[39m \u001b[38;5;124m'\u001b[39m\u001b[38;5;124mPranjal\u001b[39m\u001b[38;5;124m'\u001b[39m\n\u001b[0;32m----> 2\u001b[0m \u001b[43ml\u001b[49m\u001b[43m[\u001b[49m\u001b[38;5;241;43m3\u001b[39;49m\u001b[43m]\u001b[49m \u001b[38;5;241m=\u001b[39m \u001b[38;5;124m'\u001b[39m\u001b[38;5;124mu\u001b[39m\u001b[38;5;124m'\u001b[39m\n\u001b[1;32m      3\u001b[0m \u001b[38;5;28mprint\u001b[39m(l)\n",
      "\u001b[0;31mTypeError\u001b[0m: 'str' object does not support item assignment"
     ]
    }
   ],
   "source": [
    "l = 'Pranjal'\n",
    "l[3] = 'u'\n",
    "print(l)"
   ]
  },
  {
   "cell_type": "code",
   "execution_count": null,
   "id": "3af3b1ea-5edf-4b7d-99f2-41bc4fb411d7",
   "metadata": {},
   "outputs": [],
   "source": []
  }
 ],
 "metadata": {
  "kernelspec": {
   "display_name": "Python 3 (ipykernel)",
   "language": "python",
   "name": "python3"
  },
  "language_info": {
   "codemirror_mode": {
    "name": "ipython",
    "version": 3
   },
   "file_extension": ".py",
   "mimetype": "text/x-python",
   "name": "python",
   "nbconvert_exporter": "python",
   "pygments_lexer": "ipython3",
   "version": "3.10.8"
  }
 },
 "nbformat": 4,
 "nbformat_minor": 5
}
