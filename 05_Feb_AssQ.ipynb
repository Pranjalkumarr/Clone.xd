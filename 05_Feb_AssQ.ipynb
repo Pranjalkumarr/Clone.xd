{
 "cells": [
  {
   "cell_type": "markdown",
   "id": "74306d05-f60b-4193-87f5-62aeaeb561c1",
   "metadata": {},
   "source": [
    "Q1. Explain Class and Object with respect to Object-Oriented Programming. Give a suitable example."
   ]
  },
  {
   "cell_type": "markdown",
   "id": "e0b5d911-f7fc-434b-9ea6-8f32051a9310",
   "metadata": {},
   "source": [
    "Ans -\n",
    "\n",
    "- Class : A class is like a blueprint for creating objects. It defines what characteristics and methods, an object of that class will have.\n",
    "- Object : An object is a specific example created from a class. It represents a particular thing with its own unique data and behavior. "
   ]
  },
  {
   "cell_type": "code",
   "execution_count": 1,
   "id": "03f95132-43f1-4bfa-ae4f-ba1e2eb3a9fc",
   "metadata": {},
   "outputs": [
    {
     "name": "stdout",
     "output_type": "stream",
     "text": [
      "Welcome to pwskills.\n"
     ]
    }
   ],
   "source": [
    "class pwskills:\n",
    "    def welcm_msg(self):\n",
    "        print(\"Welcome to pwskills.\")\n",
    "\n",
    "pranjal = pwskills()\n",
    "pranjal.welcm_msg()"
   ]
  },
  {
   "cell_type": "markdown",
   "id": "0dc8bb1d-6f45-47c5-8087-f506a7c032ac",
   "metadata": {},
   "source": [
    "------------------------------------------------------"
   ]
  },
  {
   "cell_type": "markdown",
   "id": "ed35de66-52ee-402f-828b-08728e77c722",
   "metadata": {},
   "source": [
    "Q2. Name the four pillars of OOPs."
   ]
  },
  {
   "cell_type": "markdown",
   "id": "56973202-28d6-407f-9e3b-84a7e8e822e2",
   "metadata": {},
   "source": [
    "Ans -\n",
    "\n",
    "**1. Polymorphism :-**\n",
    "- The polymorphism word means having many forms.\n",
    "- In programming, polymorphism means the same function name being used for different types.\n",
    "- The key difference is the data types and number of arguments used in function.\n",
    "\n",
    "**2. Encapsulation :-**\n",
    "- It describes the idea of wrapping data and the methods that work on data within one unit.\n",
    "- This puts restrictions on accessing variables and methods directly and can prevent the accidental modification of data.\n",
    "- To prevent accidental change, an object’s variable can only be changed by an object’s method.\n",
    "- Those types of variables are known as private variables.\n",
    "\n",
    "**3. Inheritance :-**\n",
    "- Inheritance allows classes to inherit the properties and behaviors of other classes. \n",
    "- It establishes a relationship between classes, where a subclass can inherit methods from a superclass. \n",
    "\n",
    "**4. Abstraction :-**\n",
    "- An abstract class can be considered as a blueprint for other classes.\n",
    "- It allows you to create a set of methods that must be created within any child classes built from the abstract class.\n",
    "- A class which contains one or more abstract methods is called an abstract class.\n",
    "- An abstract method is a method that has a declaration but does not have an implementation.\n",
    "- While we are designing large functional units we use an abstract class.\n",
    "- When we want to provide a common interface for different implementations of a component, we use an abstract class."
   ]
  },
  {
   "cell_type": "markdown",
   "id": "cb334d83-8b63-49a5-9a5e-f05e68ca69f1",
   "metadata": {},
   "source": [
    "------------------------------------------------------"
   ]
  },
  {
   "cell_type": "markdown",
   "id": "3c6547ec-4289-4e4e-8866-0976380f0933",
   "metadata": {},
   "source": [
    "Q3. Explain why the __init__( ) function is used. Give a suitable example."
   ]
  },
  {
   "cell_type": "markdown",
   "id": "603f14ad-f345-4558-8b32-fe057d98c6f4",
   "metadata": {},
   "source": [
    "Ans - \n",
    "\n",
    " - __init__ method is like a starting point that allows us to give specific information to an object when we create it.\n",
    " - By using __init__, we ensure that each object has the right setup from the beginning."
   ]
  },
  {
   "cell_type": "code",
   "execution_count": 14,
   "id": "2ab0e1db-9573-4b81-8acb-084e7f3849c9",
   "metadata": {},
   "outputs": [
    {
     "name": "stdout",
     "output_type": "stream",
     "text": [
      "Pranjal\n",
      "Hi, my name is Pranjal and I'm 18 years old.\n",
      "\n",
      "Pratik\n",
      "Hi, my name is Pratik and I'm 20 years old.\n"
     ]
    }
   ],
   "source": [
    "class Person:\n",
    "    def __init__(self, name, age):\n",
    "        self.name = name\n",
    "        self.age = age\n",
    "\n",
    "    def introduce(self):\n",
    "        print(f\"Hi, my name is {self.name} and I'm {self.age} years old.\")\n",
    "\n",
    "a = Person(\"Pranjal\", 18)\n",
    "b = Person(\"Pratik\", 20)\n",
    "\n",
    "print(a.name)\n",
    "a.introduce()\n",
    "print()\n",
    "print(b.name)\n",
    "b.introduce()"
   ]
  },
  {
   "cell_type": "markdown",
   "id": "84eda92a-43a3-4ebe-ab7c-6a14c4599c42",
   "metadata": {},
   "source": [
    "------------------------------------------------------"
   ]
  },
  {
   "cell_type": "markdown",
   "id": "686e7f1d-7a60-4aa9-b61e-6818857d704e",
   "metadata": {},
   "source": [
    "Q4. Why self is used in OOPs?"
   ]
  },
  {
   "cell_type": "markdown",
   "id": "1d97aded-3d63-418d-8307-8831d2275c32",
   "metadata": {},
   "source": [
    "Ans - 'self' represents the instance of the class. By using the 'self' we can access the methods of the class in python. It binds the attributes with the given arguments."
   ]
  },
  {
   "cell_type": "markdown",
   "id": "418f0c94-06b0-43ac-96fa-03065333a75a",
   "metadata": {},
   "source": [
    "------------------------------------------------------"
   ]
  },
  {
   "cell_type": "markdown",
   "id": "7f9ed517-5fd5-438b-a75f-b8d67b4b193a",
   "metadata": {},
   "source": [
    "Q5. What is inheritance? Give an example for each type of inheritance."
   ]
  },
  {
   "cell_type": "markdown",
   "id": "24b69c14-e33c-4440-80fa-03e0b4c3191b",
   "metadata": {},
   "source": [
    "Ans - \n",
    "\n",
    "- The mechanism of basing an object or class upon another object is called inheritance in oops.\n",
    "- Inheritance allows classes to inherit the properties and behaviors of other classes. \n",
    "- It establishes a relationship between classes, where a subclass can inherit methods from a superclass. "
   ]
  },
  {
   "cell_type": "code",
   "execution_count": 18,
   "id": "8e89db8b-2920-4bd1-a34a-4faecd7b86a5",
   "metadata": {},
   "outputs": [
    {
     "name": "stdout",
     "output_type": "stream",
     "text": [
      "asdfghjkl\n",
      "qwertyuiop\n"
     ]
    }
   ],
   "source": [
    "class class1:\n",
    "    def test_class1(self):\n",
    "        return \"asdfghjkl\" \n",
    "\n",
    "class class2(class1):\n",
    "    def test_class2(self):\n",
    "        return \"qwertyuiop\" \n",
    "\n",
    "class class3(class2):\n",
    "    pass\n",
    "\n",
    "obj_class3 = class3()\n",
    "print(obj_class3.test_class1())\n",
    "print(obj_class3.test_class2())"
   ]
  },
  {
   "cell_type": "markdown",
   "id": "bc094b9d-efd6-4705-be6e-e9e38fd934b6",
   "metadata": {},
   "source": [
    "------------------------------------------------------"
   ]
  }
 ],
 "metadata": {
  "kernelspec": {
   "display_name": "Python 3 (ipykernel)",
   "language": "python",
   "name": "python3"
  },
  "language_info": {
   "codemirror_mode": {
    "name": "ipython",
    "version": 3
   },
   "file_extension": ".py",
   "mimetype": "text/x-python",
   "name": "python",
   "nbconvert_exporter": "python",
   "pygments_lexer": "ipython3",
   "version": "3.10.8"
  }
 },
 "nbformat": 4,
 "nbformat_minor": 5
}
