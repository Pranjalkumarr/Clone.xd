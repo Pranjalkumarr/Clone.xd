{
 "cells": [
  {
   "cell_type": "markdown",
   "id": "d4636bd2-7e46-4ea8-8879-f8c068158083",
   "metadata": {},
   "source": [
    "Q1. Which keyword is used to create a function? Create a function to return a list of odd numbers in the\n",
    "range of 1 to 25."
   ]
  },
  {
   "cell_type": "markdown",
   "id": "ccc8e188-c18f-42cb-b870-2ba9166d9b1b",
   "metadata": {},
   "source": [
    "Ans - \n",
    "\n",
    "- The keyword \"def \" is used to create a function in Python.\n",
    "- function to return a list of odd numbers in the range of 1 to 25 is"
   ]
  },
  {
   "cell_type": "code",
   "execution_count": 17,
   "id": "246a8c00-dd8d-4b92-9ace-0a92ea8794ce",
   "metadata": {},
   "outputs": [
    {
     "name": "stdout",
     "output_type": "stream",
     "text": [
      "[1, 3, 5, 7, 9, 11, 13, 15, 17, 19, 21, 23, 25]\n"
     ]
    }
   ],
   "source": [
    "def get_odd_nums():\n",
    "    odd_nums = []\n",
    "    for i in range(26):\n",
    "        if i % 2 != 0:\n",
    "            odd_nums.append(i)\n",
    "    return odd_nums    \n",
    "\n",
    "a = get_odd_nums()\n",
    "print(a)"
   ]
  },
  {
   "cell_type": "markdown",
   "id": "9503145a-9bbf-4791-ad94-ad449d44ea3b",
   "metadata": {},
   "source": [
    "------------------------------------------------------------------------------------------------------"
   ]
  },
  {
   "cell_type": "markdown",
   "id": "29a6d6a1-3ca8-45a4-9d4d-9277d79cf214",
   "metadata": {},
   "source": [
    "Q2. Why *args and **kwargs is used in some functions? Create a function each for *args and **kwargs\n",
    "to demonstrate their use."
   ]
  },
  {
   "cell_type": "markdown",
   "id": "e6f1dbda-ca53-461c-92c9-e7cfa1f10127",
   "metadata": {},
   "source": [
    "Ans - \n",
    "\n",
    "- *args is used to pass a variable number of non-keyword arguments to a function. It collects the arguments into a tuple.\n",
    "\n",
    "- **kwargs is used to pass a variable number of keyword arguments to a function. It collects the arguments into a dictionary."
   ]
  },
  {
   "cell_type": "code",
   "execution_count": 18,
   "id": "3839aca3-fe85-452e-8283-9865352d3013",
   "metadata": {},
   "outputs": [
    {
     "name": "stdout",
     "output_type": "stream",
     "text": [
      "()\n",
      "<class 'tuple'>\n",
      "(1, 321, 4, 'sfsfd')\n"
     ]
    }
   ],
   "source": [
    "def test(*args):\n",
    "    return args\n",
    "\n",
    "print(test())\n",
    "print(type(test()))\n",
    "print(test(1, 321, 4, \"sfsfd\"))"
   ]
  },
  {
   "cell_type": "code",
   "execution_count": 20,
   "id": "54424606-bb42-4b75-bb55-58d605c7ee70",
   "metadata": {},
   "outputs": [
    {
     "name": "stdout",
     "output_type": "stream",
     "text": [
      "{}\n",
      "<class 'dict'>\n",
      "{'a': 1, 'b': 2.7, 'c': 3, 'd': 'pranjal', 'e': [1, 2.7, 3, 'pranjal']}\n"
     ]
    }
   ],
   "source": [
    "def test(**kwargs):\n",
    "    return kwargs\n",
    "\n",
    "print(test())\n",
    "print(type(test()))\n",
    "print(test(a = 1, b = 2.7, c = 3, d = \"pranjal\", e = [1, 2.7, 3, \"pranjal\"]))"
   ]
  },
  {
   "cell_type": "markdown",
   "id": "2ff84ecc-aeb3-4118-86c8-e669bf8b5634",
   "metadata": {},
   "source": [
    "--------------------------------------------------------------------------------------------------------------------------------------------"
   ]
  },
  {
   "cell_type": "markdown",
   "id": "767fd5f6-737c-49ab-bfd0-579081f94510",
   "metadata": {},
   "source": [
    "Q3. What is an iterator in python? Name the method used to initialise the iterator object and the method\n",
    "used for iteration. Use these methods to print the first five elements of the given list\n",
    "[2, 4, 6, 8, 10, 12, 14, 16, 18, 20].\n",
    "\n",
    "Ans- \n",
    "\n",
    "- An iterator is an object that allows you to iterate over collections of data, such as lists, tuples, dictionaries, and sets.\n",
    "- To create an iterator object in Python, we use the 'iter( )' method. This method takes an iterable object as an argument and returns an iterator object.\n",
    "- To iterate over the elements of an iterator, we use the 'next( )' method. It retrieves the next element from the iterator.\n"
   ]
  },
  {
   "cell_type": "code",
   "execution_count": 22,
   "id": "0bf5278e-3723-42f8-bbee-b211159eab9e",
   "metadata": {},
   "outputs": [
    {
     "name": "stdout",
     "output_type": "stream",
     "text": [
      "2\n",
      "4\n",
      "6\n",
      "8\n",
      "10\n"
     ]
    }
   ],
   "source": [
    "list = [2, 4, 6, 8, 10, 12, 14, 16, 18, 20]\n",
    "new_list = iter(list)\n",
    "\n",
    "for i in range(5):\n",
    "    a = next(new_list)\n",
    "    print(a)"
   ]
  },
  {
   "cell_type": "markdown",
   "id": "1c85055b-f0d8-408a-a6aa-24467a6cadcf",
   "metadata": {},
   "source": [
    "---------------------------------------------------------------------------------------------------------------"
   ]
  },
  {
   "cell_type": "markdown",
   "id": "fa60f2ae-d1c0-449d-be2e-edfbdc4adbb6",
   "metadata": {},
   "source": [
    "Q4. What is a generator function in python? Why yield keyword is used? Give an example of a generator function.\n",
    "\n",
    "Ans -\n",
    "\n",
    "- A generator is a function that returns an iterator that produces a sequence of values when iterated over.\n",
    "- It uses the yield keyword instead of the return keyword to yield values one at a time."
   ]
  },
  {
   "cell_type": "code",
   "execution_count": 1,
   "id": "65d33def-8a29-4374-ab4f-f293041a9031",
   "metadata": {},
   "outputs": [
    {
     "name": "stdout",
     "output_type": "stream",
     "text": [
      "0\n",
      "1\n",
      "1\n",
      "2\n",
      "3\n",
      "5\n",
      "8\n",
      "13\n",
      "21\n",
      "34\n"
     ]
    }
   ],
   "source": [
    "def fibbonaci():\n",
    "    a, b = 0, 1\n",
    "    while True:\n",
    "        yield a\n",
    "        a, b = b, a + b\n",
    "\n",
    "fib = fibbonaci()\n",
    "\n",
    "for i in range(10):\n",
    "    print(next(fib))"
   ]
  },
  {
   "cell_type": "markdown",
   "id": "cfc19942-b65e-4b93-9299-de824f8a478d",
   "metadata": {},
   "source": [
    "----------------------------------------------------------------------------------------------------------------------------"
   ]
  },
  {
   "cell_type": "markdown",
   "id": "5dfc07fc-4d51-44ac-8a47-d099a4ebd5c7",
   "metadata": {},
   "source": [
    "Q5. Create a generator function for prime numbers less than 1000. Use the next( ) method to print the\n",
    "first 20 prime numbers."
   ]
  },
  {
   "cell_type": "code",
   "execution_count": 1,
   "id": "e2ca7dd5-041a-42f6-97f6-6eb90a2789a7",
   "metadata": {},
   "outputs": [
    {
     "name": "stdout",
     "output_type": "stream",
     "text": [
      "2\n",
      "3\n",
      "5\n",
      "7\n",
      "11\n",
      "13\n",
      "17\n",
      "19\n",
      "23\n",
      "29\n",
      "31\n",
      "37\n",
      "41\n",
      "43\n",
      "47\n",
      "53\n",
      "59\n",
      "61\n",
      "67\n",
      "71\n"
     ]
    }
   ],
   "source": [
    "def generate_primes():\n",
    "    number = 2\n",
    "    while number < 1000:\n",
    "        is_prime = True\n",
    "        for i in range(2, number):\n",
    "            if number % i == 0:\n",
    "                is_prime = False\n",
    "                break\n",
    "        if is_prime:\n",
    "            yield number\n",
    "        number = number + 1\n",
    "\n",
    "prime_generator = generate_primes()\n",
    "\n",
    "for _ in range(20):\n",
    "    prime = next(prime_generator)\n",
    "    print(prime)"
   ]
  },
  {
   "cell_type": "markdown",
   "id": "f65e8b45-9d27-4648-8f80-4e9c052a3048",
   "metadata": {},
   "source": [
    "-------------------------------------------------------------------------------------------------"
   ]
  },
  {
   "cell_type": "markdown",
   "id": "ccbc0bf5-4197-44f1-827d-87f0d9dcfb65",
   "metadata": {},
   "source": [
    "Q6. Write a python program to print the first 10 Fibonacci numbers using a while loop."
   ]
  },
  {
   "cell_type": "code",
   "execution_count": 2,
   "id": "a24e1c94-377f-4fec-837d-78dd3ce935fe",
   "metadata": {},
   "outputs": [
    {
     "name": "stdout",
     "output_type": "stream",
     "text": [
      "0\n",
      "1\n",
      "1\n",
      "2\n",
      "3\n",
      "5\n",
      "8\n",
      "13\n",
      "21\n",
      "34\n"
     ]
    }
   ],
   "source": [
    "a, b = 0, 1\n",
    "count = 0\n",
    "while count < 10:\n",
    "    print(a)\n",
    "    a, b = b, a + b\n",
    "    count = count + 1"
   ]
  },
  {
   "cell_type": "markdown",
   "id": "a1c4e360-d957-476d-9373-7f56f777f434",
   "metadata": {},
   "source": [
    "--------------------------------------------------------------------------------------"
   ]
  },
  {
   "cell_type": "markdown",
   "id": "49d9caa8-a669-481b-86fd-85b495c95672",
   "metadata": {},
   "source": [
    "Q7. Write a List Comprehension to iterate through the given string: ‘pwskills’.\n",
    "Expected output: ['p', 'w', 's', 'k', 'i', 'l', 'l', 's']"
   ]
  },
  {
   "cell_type": "code",
   "execution_count": 34,
   "id": "0675c5f9-82bd-4eae-b21f-062ad42e2ab5",
   "metadata": {},
   "outputs": [
    {
     "data": {
      "text/plain": [
       "['p', 'w', 's', 'k', 'i', 'l', 'l', 's']"
      ]
     },
     "execution_count": 34,
     "metadata": {},
     "output_type": "execute_result"
    }
   ],
   "source": [
    "list(_ for _ in 'pwskills')"
   ]
  },
  {
   "cell_type": "markdown",
   "id": "c7130d02-4b0a-4f71-8214-983ad2f595f0",
   "metadata": {},
   "source": [
    "-----------------------------------------------------------------------"
   ]
  },
  {
   "cell_type": "markdown",
   "id": "b4d36c15-2625-445d-b078-6c0b53da152d",
   "metadata": {},
   "source": [
    "Q8. Write a python program to check whether a given number is Palindrome or not using a while loop."
   ]
  },
  {
   "cell_type": "code",
   "execution_count": 22,
   "id": "11e50b71-9b67-4f36-8aa1-4e4cbd1738e7",
   "metadata": {},
   "outputs": [
    {
     "name": "stdin",
     "output_type": "stream",
     "text": [
      "Enter the number:  12321\n"
     ]
    },
    {
     "data": {
      "text/plain": [
       "'Palindrome number.'"
      ]
     },
     "execution_count": 22,
     "metadata": {},
     "output_type": "execute_result"
    }
   ],
   "source": [
    "def palin(x):\n",
    "    num = x\n",
    "    rev = 0\n",
    "    while num > 0:\n",
    "        a = num%10\n",
    "        rev = (rev*10) + a\n",
    "        num = num//10\n",
    "        \n",
    "    if (x == rev):\n",
    "        return(\"Palindrome number.\")\n",
    "    else:\n",
    "        return(\"Not a palindrome number.\")\n",
    "\n",
    "num = int(input(\"Enter the number: \"))\n",
    "palin(num)"
   ]
  },
  {
   "cell_type": "markdown",
   "id": "f9afdb9b-14d4-4475-8e26-b8aac8fd98fb",
   "metadata": {},
   "source": [
    "----------------------------------------------------------------------------"
   ]
  },
  {
   "cell_type": "markdown",
   "id": "d344dd38-bde8-4fca-a535-942dcbb7c55c",
   "metadata": {},
   "source": [
    "Q9. Write a code to print odd numbers from 1 to 100 using list comprehension.\n",
    "Note: Use a list comprehension to create a list from 1 to 100 and use another List comprehension to filter\n",
    "out odd numbers."
   ]
  },
  {
   "cell_type": "code",
   "execution_count": 31,
   "id": "a126b28e-f178-413f-b6f5-ff7907e6feff",
   "metadata": {},
   "outputs": [
    {
     "name": "stdout",
     "output_type": "stream",
     "text": [
      "[1, 3, 5, 7, 9, 11, 13, 15, 17, 19, 21, 23, 25, 27, 29, 31, 33, 35, 37, 39, 41, 43, 45, 47, 49, 51, 53, 55, 57, 59, 61, 63, 65, 67, 69, 71, 73, 75, 77, 79, 81, 83, 85, 87, 89, 91, 93, 95, 97, 99]\n"
     ]
    }
   ],
   "source": [
    "all_nums = list(i for i in range(1, 101))\n",
    "odd_nums = list(j for j in range(1, 101) if j%2 != 0)\n",
    "print(odd_nums)"
   ]
  },
  {
   "cell_type": "markdown",
   "id": "616fbc4e-3f73-423a-b058-13ccd274a609",
   "metadata": {},
   "source": [
    "---------------------------------------------------------------------------------------"
   ]
  },
  {
   "cell_type": "code",
   "execution_count": null,
   "id": "56f9f5aa-434b-434a-a639-3bb465494aed",
   "metadata": {},
   "outputs": [],
   "source": []
  }
 ],
 "metadata": {
  "kernelspec": {
   "display_name": "Python 3 (ipykernel)",
   "language": "python",
   "name": "python3"
  },
  "language_info": {
   "codemirror_mode": {
    "name": "ipython",
    "version": 3
   },
   "file_extension": ".py",
   "mimetype": "text/x-python",
   "name": "python",
   "nbconvert_exporter": "python",
   "pygments_lexer": "ipython3",
   "version": "3.10.8"
  }
 },
 "nbformat": 4,
 "nbformat_minor": 5
}
