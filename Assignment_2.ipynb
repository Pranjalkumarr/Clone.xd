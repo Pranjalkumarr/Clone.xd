{
 "cells": [
  {
   "cell_type": "markdown",
   "id": "508913f6-4cb1-4143-a8f7-84f26834449a",
   "metadata": {},
   "source": [
    "Q1. How do you comment code in Python? What are the different types of comments?"
   ]
  },
  {
   "cell_type": "markdown",
   "id": "f753cfdd-ca54-4a81-8e7a-839589f309f0",
   "metadata": {},
   "source": [
    "Ans - There are two types of comments in Python: single-line comments and multi-line comments.\n",
    "\n",
    "* Single-line comment :\n",
    "To add a single line comment, we use the hash character (#). Anything after the hash symbol on the same line will be considered as a comment and will not be executed by the Python interpreter."
   ]
  },
  {
   "cell_type": "code",
   "execution_count": 1,
   "id": "3b95b1f8-aea8-42df-aa95-c6b3ed60eb78",
   "metadata": {},
   "outputs": [
    {
     "name": "stdout",
     "output_type": "stream",
     "text": [
      "Hello World\n"
     ]
    }
   ],
   "source": [
    "# comment\n",
    "print(\"Hello World\")"
   ]
  },
  {
   "cell_type": "markdown",
   "id": "aa7da86e-d3b9-4473-93d8-1bcbf8cc1a84",
   "metadata": {},
   "source": [
    "* Multi-line comment :\n",
    "Python does not have any syntax for multi-line comments. Since Python will ignore string literals that are not assigned to a variable, we can add a multi-line string by using triple quotes (\"\"\" \"\"\") in the code, and place the comment inside it."
   ]
  },
  {
   "cell_type": "code",
   "execution_count": 5,
   "id": "241efe21-9892-468d-b02d-53dba47f8e66",
   "metadata": {},
   "outputs": [
    {
     "name": "stdout",
     "output_type": "stream",
     "text": [
      "Hello World\n"
     ]
    }
   ],
   "source": [
    "\"\"\"fgsgfsgfg\n",
    "fadsfdasfd\n",
    "fadsffdasd\n",
    "dfassdafsd\"\"\"\n",
    "\n",
    "print(\"Hello World\")"
   ]
  },
  {
   "cell_type": "markdown",
   "id": "ad34ef95-675b-4e56-8f29-a9fe20d8cd89",
   "metadata": {},
   "source": [
    "Q2. What are variables in Python? How do you declare and assign values to variables?"
   ]
  },
  {
   "cell_type": "markdown",
   "id": "272c3202-9020-4afd-aebe-b33b00b20440",
   "metadata": {},
   "source": [
    "Ans - \n",
    "\n",
    "+ Variables :\n",
    "In Python, variables are used to store and refer data. We can assign a value to a variable, and that value can be of different types such as numbers, strings, lists, or other objects.\n",
    "\n",
    "- Declaration and Assignation :\n",
    "To declare and assign a value to a variable in Python, we simply use the assignment operator (=).\n"
   ]
  },
  {
   "cell_type": "code",
   "execution_count": 4,
   "id": "faa8d919-0b0d-4edf-85c2-6c874ef0adab",
   "metadata": {},
   "outputs": [
    {
     "name": "stdout",
     "output_type": "stream",
     "text": [
      "Johan\n",
      "19\n",
      "1.75\n"
     ]
    }
   ],
   "source": [
    "# Assigning values to variables\n",
    "name = \"Johan\"\n",
    "age = 19\n",
    "height = 1.75\n",
    "\n",
    "# Printing the values\n",
    "print(name)\n",
    "print(age)\n",
    "print(height)\n"
   ]
  },
  {
   "cell_type": "markdown",
   "id": "c6ddee12-d2ba-404c-b283-29d38eade844",
   "metadata": {},
   "source": [
    "Q3. How do you convert one data type to another in Python?"
   ]
  },
  {
   "cell_type": "markdown",
   "id": "05da6fa6-e9da-45a1-a9d8-6fb39dd50226",
   "metadata": {},
   "source": [
    "Ans - \n",
    "\n",
    "In Python, we can convert one data type to another using type conversion functions such as int(), float(), str(), bool(), list(), tuple(), dict(), or set() depending on the conditon. These functions take a value of one type as an input and returns a output of the specified data type."
   ]
  },
  {
   "cell_type": "markdown",
   "id": "2ecbd1cf-3bd7-4f63-89c9-8f387db2b9c1",
   "metadata": {},
   "source": [
    "Q4. How do you write and execute a Python script from the command line?"
   ]
  },
  {
   "cell_type": "markdown",
   "id": "7d9072ee-644c-45a0-bef9-319719d64d27",
   "metadata": {},
   "source": [
    "Ans - \n",
    "\n",
    "* Open a text editor, write Python code, and save the file with a .py extension. For example, save the file as pwskills.py.\n",
    "\n",
    "* Open the command line or terminal, navigate to the directory where your Python script is located using the cd command, and run the script by typing python followed by the script's filename. For example, python pwskills.py. Press Enter to execute the command, and the Python interpreter will run your script, displaying the output if any."
   ]
  },
  {
   "cell_type": "markdown",
   "id": "b050bb84-db87-41a3-ba7a-4574bf7da580",
   "metadata": {},
   "source": [
    "Q5. Given a list my_list = [1, 2, 3, 4, 5], write the code to slice the list and obtain the sub-list [2, 3].\n"
   ]
  },
  {
   "cell_type": "code",
   "execution_count": 7,
   "id": "3613aa9c-a7b3-4c61-ac76-ce940b833f03",
   "metadata": {},
   "outputs": [
    {
     "name": "stdout",
     "output_type": "stream",
     "text": [
      "[2, 3]\n"
     ]
    }
   ],
   "source": [
    "my_list = [1, 2, 3, 4, 5]\n",
    "sub_list = my_list[1:3]\n",
    "\n",
    "print(sub_list)"
   ]
  },
  {
   "cell_type": "markdown",
   "id": "8978a565-33db-4b82-8edc-6eb92f4a803d",
   "metadata": {},
   "source": [
    "Q6. What is a complex number in mathematics, and how is it represented in Python?"
   ]
  },
  {
   "cell_type": "markdown",
   "id": "0a5b816a-cc41-487a-9124-dd594b988845",
   "metadata": {},
   "source": [
    "Ans - \n",
    "- In mathematics, a complex number is a number that consists of a real part and an imaginary part. \n",
    "- In Python, complex numbers are represented using the complex data type, which can be created using the complex( ) function or by using the j suffix to denote the imaginary part. "
   ]
  },
  {
   "cell_type": "code",
   "execution_count": 12,
   "id": "c3b2236c-2884-494a-8fb5-31993b86f4c8",
   "metadata": {},
   "outputs": [
    {
     "name": "stdout",
     "output_type": "stream",
     "text": [
      "(5+2j)\n",
      "(1+6j)\n"
     ]
    }
   ],
   "source": [
    "# complex numbers\n",
    "a = 3 + 4j\n",
    "b = 2 - 2j\n",
    "\n",
    "c = a + b\n",
    "d = a - b\n",
    "\n",
    "print(c)\n",
    "print(d)"
   ]
  },
  {
   "cell_type": "markdown",
   "id": "d8ef17e9-12eb-4cf8-9819-03cfbc1f2206",
   "metadata": {},
   "source": [
    "Q7. What is the correct way to declare a variable named age and assign the value 25 to it?"
   ]
  },
  {
   "cell_type": "code",
   "execution_count": 1,
   "id": "1e40d446-3216-4d48-910b-2580d6b9cf69",
   "metadata": {},
   "outputs": [],
   "source": [
    "age = 25"
   ]
  },
  {
   "cell_type": "markdown",
   "id": "551da608-2580-414d-ba62-e244dce47dcb",
   "metadata": {},
   "source": [
    "Q8. Declare a variable named price and assign the value 9.99 to it. What data type does this variable \n",
    "belong to?"
   ]
  },
  {
   "cell_type": "code",
   "execution_count": 2,
   "id": "745beff3-96fe-4040-91e2-2e3842e17ca4",
   "metadata": {},
   "outputs": [],
   "source": [
    "price = 9.99 #float data type"
   ]
  },
  {
   "cell_type": "markdown",
   "id": "911ccdd1-bb99-477a-bfff-a4c3d2a42717",
   "metadata": {},
   "source": [
    "Q9. Create a variable named name and assign your full name to it as a string. How would you print the \n",
    "value of this variable"
   ]
  },
  {
   "cell_type": "code",
   "execution_count": 3,
   "id": "427d4be7-3a61-4b7b-a3bc-e9cb98a0f28d",
   "metadata": {},
   "outputs": [
    {
     "name": "stdout",
     "output_type": "stream",
     "text": [
      "Pranjal Kumar\n"
     ]
    }
   ],
   "source": [
    "name = \"Pranjal Kumar\"\n",
    "print(name)"
   ]
  },
  {
   "cell_type": "markdown",
   "id": "389c53e8-f0fd-43cd-93e0-67f8cca6b5cb",
   "metadata": {},
   "source": [
    "Q10. Given the string \"Hello, World!\", extract the substring \"World\""
   ]
  },
  {
   "cell_type": "code",
   "execution_count": 9,
   "id": "f1f8c6af-1318-47fa-bcc4-1a316dfb181f",
   "metadata": {},
   "outputs": [
    {
     "name": "stdout",
     "output_type": "stream",
     "text": [
      "World\n"
     ]
    }
   ],
   "source": [
    "a = \"Hello, World!\"\n",
    "b = a[7:12]\n",
    "print(b)"
   ]
  },
  {
   "cell_type": "markdown",
   "id": "dddfd7af-f062-4937-a5a6-5ba0340be1ac",
   "metadata": {},
   "source": [
    "Q11. Create a variable named \"is_student\" and assign it a boolean value indicating whether you are \n",
    "currently a student or not"
   ]
  },
  {
   "cell_type": "code",
   "execution_count": null,
   "id": "4f05491f-1ef3-4bf7-9292-af33e3f94f80",
   "metadata": {},
   "outputs": [],
   "source": [
    "is_student = True"
   ]
  }
 ],
 "metadata": {
  "kernelspec": {
   "display_name": "Python 3 (ipykernel)",
   "language": "python",
   "name": "python3"
  },
  "language_info": {
   "codemirror_mode": {
    "name": "ipython",
    "version": 3
   },
   "file_extension": ".py",
   "mimetype": "text/x-python",
   "name": "python",
   "nbconvert_exporter": "python",
   "pygments_lexer": "ipython3",
   "version": "3.10.8"
  }
 },
 "nbformat": 4,
 "nbformat_minor": 5
}
