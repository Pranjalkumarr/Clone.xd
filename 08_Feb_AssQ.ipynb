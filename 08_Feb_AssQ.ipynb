{
 "cells": [
  {
   "cell_type": "markdown",
   "id": "ecff09c3-478d-4032-b348-f712896565d7",
   "metadata": {},
   "source": [
    "Q1. What is Abstraction in OOps? Explain with an example."
   ]
  },
  {
   "cell_type": "markdown",
   "id": "07e15259-21a3-4dda-80ac-448bee9b458a",
   "metadata": {},
   "source": [
    "Ans :-\n",
    "Abstraction in Object-Oriented Programming (OOP) is the process of simplifying complex systems by representing only the essential features while hiding unnecessary details. It allows us to create a model of a real-world object or concept as a class, exposing only the relevant characteristics and behavior, and abstracting away the internal implementation.\n",
    "\n"
   ]
  },
  {
   "cell_type": "code",
   "execution_count": 1,
   "id": "10d247eb-4233-4523-899a-bd1aea6968d0",
   "metadata": {},
   "outputs": [
    {
     "name": "stdout",
     "output_type": "stream",
     "text": [
      "c\n",
      "d\n",
      "a\n",
      "b\n"
     ]
    }
   ],
   "source": [
    "# abstraction\n",
    "import abc\n",
    "class pwskills:\n",
    "\n",
    "    @abc.abstractmethod\n",
    "    def student_details(self):\n",
    "        pass\n",
    "\n",
    "    @abc.abstractmethod\n",
    "    def student_assignment(self):\n",
    "        pass\n",
    "\n",
    "    @abc.abstractmethod\n",
    "    def student_marks(self):\n",
    "        pass\n",
    "\n",
    "class student_details(pwskills):\n",
    "\n",
    "    def student_details(self):\n",
    "        return \"a\"\n",
    "    def student_assignment(self):\n",
    "        return \"b\"\n",
    "    \n",
    "class data_science_masters(pwskills):\n",
    "\n",
    "    def student_details(self):\n",
    "        return \"c\"\n",
    "    def student_marks(self):\n",
    "        return \"d\"\n",
    "    \n",
    "dsm = data_science_masters()\n",
    "print(dsm.student_details())\n",
    "print(dsm.student_marks())\n",
    "\n",
    "sd = student_details()\n",
    "print(sd.student_details())\n",
    "print(sd.student_assignment())"
   ]
  },
  {
   "cell_type": "markdown",
   "id": "ca400dad-90ca-4cca-a7bc-f1d2a858e979",
   "metadata": {},
   "source": [
    "Abstraction is achieved by using an abstract class \"pwskills\" with abstract methods. Concrete classes \"data_science_masters\" and \"student_details\" inherit from \"pwskills\" and provide specific implementations for the abstract methods. The abstract class defines a common interface for student skills, enabling uniform usage of different skill classes without knowing their internal details"
   ]
  },
  {
   "cell_type": "markdown",
   "id": "ee2fe230-60e3-4e63-8d7c-7122bdd24415",
   "metadata": {},
   "source": [
    "----------------------------------------------"
   ]
  },
  {
   "cell_type": "markdown",
   "id": "b129d8b1-2fdc-4317-a923-d04f7fe7dc12",
   "metadata": {},
   "source": [
    "Q2. Differentiate between Abstraction and Encapsulation. Explain with an example."
   ]
  },
  {
   "cell_type": "markdown",
   "id": "7340129b-22f4-4f5d-811d-8ac2d7b6b090",
   "metadata": {},
   "source": [
    "Ans :- \n",
    "\n",
    "Abstraction and Encapsulation are two fundamental concepts in Object-Oriented Programming (OOP) that help manage complexity and improve code organization:\n",
    "\n",
    "1. Abstraction\n",
    "- Abstraction focuses on hiding unnecessary details and exposing only essential features of an object or concept.\n",
    "- It allows us to create a simplified model or representation of real-world objects or systems.\n",
    "- Abstraction is achieved using abstract classes and interfaces in OOP.\n",
    "\n",
    "Example -\n",
    "The concept of a \"Shape\" is an example of Abstraction. We can define an abstract class \"Shape\" that contains abstract methods like \"area\" and \"perimeter\" without providing specific implementations. Concrete subclasses like \"Circle,\" \"Rectangle,\" and \"Triangle\" will inherit from the abstract class and implement the \"area\" and \"perimeter\" methods according to their specific formulas. The details of how each shape calculates its area and perimeter are hidden, and we can treat all shapes uniformly using the common interface provided by the abstract class \"Shape.\""
   ]
  },
  {
   "cell_type": "markdown",
   "id": "9816c1d1-2d0b-4597-8635-ea3b9c76e2e5",
   "metadata": {},
   "source": [
    "2. Encapsulation\n",
    "- It restricts direct access to the internal data of an object and provides controlled access through methods.\n",
    "- Encapsulation helps maintain data integrity and allows for better maintenance and updates in the future.\n",
    "\n",
    "Example -\n",
    "Consider a class \"BankAccount\" that represents a user's bank account. The class can have attributes like \"account_number\" and \"balance\" and methods like \"deposit\" and \"withdraw.\" The attributes are private, accessible only through the methods. By encapsulating the data and methods within the class, we can control how account transactions are performed, ensure that withdrawals do not exceed the balance, and enforce security measures.\n",
    "\n"
   ]
  },
  {
   "cell_type": "markdown",
   "id": "98454459-8892-4bb6-af0b-334ff96c96e2",
   "metadata": {},
   "source": [
    "----------------------------------------------"
   ]
  },
  {
   "cell_type": "markdown",
   "id": "10f4af7d-f977-406d-b691-aa5ae3d9c68c",
   "metadata": {},
   "source": [
    "Q3. What is abc module in python? Why is it used?"
   ]
  },
  {
   "cell_type": "markdown",
   "id": "3fdd8bad-8d95-40cd-84d5-72be337ef7b1",
   "metadata": {},
   "source": [
    "Ans :-\n",
    "\n",
    "The abc module in Python stands for \"Abstract Base Classes.\" It provides a way to define abstract classes and abstract methods, which act as blueprints for derived classes. Abstract classes cannot be instantiated themselves but serve as a contract for subclasses, ensuring they implement specific functionality.\n",
    "\n",
    "The main purpose of the abc module is to enforce a certain structure on derived classes, guaranteeing that they have essential methods or properties that must be implemented. By creating abstract classes and abstract methods, developers can design frameworks and APIs with clear requirements for subclass implementations, improving code consistency, and reducing errors.\n",
    "\n"
   ]
  },
  {
   "cell_type": "markdown",
   "id": "fdf93b63-287a-4e64-a542-7d38ca4109e0",
   "metadata": {},
   "source": [
    "----------------------------------------------"
   ]
  },
  {
   "cell_type": "markdown",
   "id": "0a107064-702c-46c5-b2c4-623fef2ae8cd",
   "metadata": {},
   "source": [
    "Q4. How can we achieve data abstraction?"
   ]
  },
  {
   "cell_type": "markdown",
   "id": "838a748e-4520-45c7-a98c-15abb29dacb4",
   "metadata": {},
   "source": [
    "Ans :-\n",
    "\n",
    "Data abstraction can be achieved by:\n",
    "1. Using abstract classes to define blueprints with abstract methods, hiding implementation details.\n",
    "2. Encapsulating data and providing a simple interface for users to interact with the data.\n",
    "3. Hiding complex operations inside class methods, allowing users to work with high-level methods without worrying about implementation intricacies."
   ]
  },
  {
   "cell_type": "markdown",
   "id": "a7508e03-88b7-4a39-be99-71ea075769b3",
   "metadata": {},
   "source": [
    "----------------------------------------------"
   ]
  },
  {
   "cell_type": "markdown",
   "id": "66286295-e85b-42c5-9661-22f992a4e018",
   "metadata": {},
   "source": [
    "Q5. Can we create an instance of an abstract class? Explain your answer."
   ]
  },
  {
   "cell_type": "markdown",
   "id": "5bfcd842-404d-4714-97ae-59e594f64fb4",
   "metadata": {},
   "source": [
    "Ans :- \n",
    "\n",
    "No, we cannot create an instance of an abstract class in Python. Abstract classes are incomplete by design, containing abstract methods with no implementation. They serve as blueprints and cannot be instantiated directly because they lack complete functionality. Subclasses must provide implementations for all abstract methods before instances can be created."
   ]
  },
  {
   "cell_type": "markdown",
   "id": "8780b8ce-f3ab-4de8-8095-eb1039ae917b",
   "metadata": {},
   "source": [
    "----------------------------------------------"
   ]
  },
  {
   "cell_type": "code",
   "execution_count": null,
   "id": "6c496e1d-0222-480d-9fa1-47ed981cca68",
   "metadata": {},
   "outputs": [],
   "source": []
  }
 ],
 "metadata": {
  "kernelspec": {
   "display_name": "Python 3 (ipykernel)",
   "language": "python",
   "name": "python3"
  },
  "language_info": {
   "codemirror_mode": {
    "name": "ipython",
    "version": 3
   },
   "file_extension": ".py",
   "mimetype": "text/x-python",
   "name": "python",
   "nbconvert_exporter": "python",
   "pygments_lexer": "ipython3",
   "version": "3.10.8"
  }
 },
 "nbformat": 4,
 "nbformat_minor": 5
}
