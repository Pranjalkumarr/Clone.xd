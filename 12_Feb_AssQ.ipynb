{
 "cells": [
  {
   "cell_type": "markdown",
   "id": "2929a1ed-8576-4882-ac2e-8fde6b1b1217",
   "metadata": {},
   "source": [
    "Q1. What is an Exception in python? Write the difference between Exceptions and Syntax errors"
   ]
  },
  {
   "cell_type": "markdown",
   "id": "d5d62766-cad3-4f49-943d-2bf8899d1dc7",
   "metadata": {},
   "source": [
    "Ans - \n",
    " An exception is an event, which occurs during the execution of a program that disrupts the normal flow of the program's instructions. \n",
    " \n",
    " - Syntax Error : Syntax errors occur when the code is written incorrectly according to the rules of the Python language. These errors are detected by the Python interpreter before the program starts running. They prevent the code from being executed at all.\n",
    "\n",
    "- Exception : Exceptions are errors that occur during program execution. They are not related to syntax but rather to unexpected situations that arise while the code is running. Python provides a way to catch and handle exceptions using try and except blocks, allowing the program to continue running despite encountering errors."
   ]
  },
  {
   "cell_type": "markdown",
   "id": "3714195a-150f-403d-9ac1-a31ce27f56bd",
   "metadata": {},
   "source": [
    "---------------------------------------------------------------------------"
   ]
  },
  {
   "cell_type": "markdown",
   "id": "093ddcb7-05ba-479e-98c6-66a36ebf3210",
   "metadata": {
    "tags": []
   },
   "source": [
    "Q2. What happens when an exception is not handled? Explain with an example.\n",
    "\n",
    "Ans - When an exception is not handled, it's like an unexpected problem that occurs while your program is running. If this problem isn't \"caught\" and \"fixed\" by your code, it can cause your program to stop abruptly, and you'll see an error message. \n",
    "\n",
    "For example, if your program tries to divide a number by zero (which is impossible), Python will raise an exception. If you haven't prepared your program to handle this situation, Python will stop the program and tell you that you can't divide by zero.\n",
    "\n",
    "\n",
    "\n",
    "-----------------------------------------------------------------------------------------------------------------"
   ]
  },
  {
   "cell_type": "markdown",
   "id": "11fed29c-d40f-4d02-9e2e-a9b83e70a5f6",
   "metadata": {},
   "source": [
    "Q3. Which Python statements are used to catch and handle exceptions? Explain with an example.\n",
    "\n",
    "Ans - In Python, the \"try\", \"except\", \"else\", and \"finally\" statements are used to catch and handle exceptions. These statements allow you to control the flow of your program when unexpected errors occur."
   ]
  },
  {
   "cell_type": "code",
   "execution_count": 5,
   "id": "1c519514-098b-4b41-b89c-0b9225fe0f6f",
   "metadata": {},
   "outputs": [
    {
     "name": "stdin",
     "output_type": "stream",
     "text": [
      "Enter a number:  5\n"
     ]
    },
    {
     "name": "stdout",
     "output_type": "stream",
     "text": [
      "Result: 2.0\n",
      "Execution finished.\n"
     ]
    }
   ],
   "source": [
    "try:\n",
    "    num = int(input(\"Enter a number: \"))\n",
    "    result = 10 / num\n",
    "except ZeroDivisionError:\n",
    "    print(\"You can't divide a number by zero.\")\n",
    "else:\n",
    "    print(\"Result:\", result)\n",
    "finally:\n",
    "    print(\"Execution finished.\")\n"
   ]
  },
  {
   "cell_type": "markdown",
   "id": "af1d83fd-fee2-4821-a7fa-9e780336ad46",
   "metadata": {},
   "source": [
    "-------------------------------------------------------------------"
   ]
  },
  {
   "cell_type": "markdown",
   "id": "6b65c147-aa4f-4efe-b18e-77405c76a67b",
   "metadata": {},
   "source": [
    "Q4. Explain with an example:\n",
    "\n",
    "a) try and else\n",
    "\n",
    "b) finally\n",
    "\n",
    "c) raise\n",
    "\n",
    "\n",
    "- try Block: Used for potentially risky code that might cause errors. If an error occurs, the program jumps to the except block.\n",
    "- else Block: Runs when the try block completes without errors, providing an opportunity to execute code when everything's fine.\n",
    "- finally Block : Holds code that will be executed no matter what, whether an exception occurs or not. Useful for cleanup tasks like closing files.\n",
    "- raise Statement: Creates and raises a specific exception intentionally, allowing you to indicate that something unusual or unexpected has occurred in your code.\n",
    "\n",
    "Example :\n",
    "\n",
    "\n",
    "\n",
    "\n",
    "\n",
    "\n",
    "\n"
   ]
  },
  {
   "cell_type": "code",
   "execution_count": 16,
   "id": "76f13ff9-643c-4a9c-bb6b-9810ae0ec20a",
   "metadata": {},
   "outputs": [
    {
     "name": "stdout",
     "output_type": "stream",
     "text": [
      "Error: You can't divide a number by zero.\n",
      "Division operation completed.\n"
     ]
    },
    {
     "name": "stdin",
     "output_type": "stream",
     "text": [
      "Enter a positive number:  25\n"
     ]
    },
    {
     "name": "stdout",
     "output_type": "stream",
     "text": [
      "You entered : 25\n"
     ]
    }
   ],
   "source": [
    "# try else finally\n",
    "def divide(x, y):\n",
    "    try:\n",
    "        result = x / y\n",
    "    except ZeroDivisionError:\n",
    "        print(\"Error: You can't divide a number by zero.\")\n",
    "    else:\n",
    "        print(\"Result:\", result)\n",
    "    finally:\n",
    "        print(\"Division operation completed.\")\n",
    "\n",
    "divide(10, 0)\n",
    "\n",
    "# raise\n",
    "def check_positive(value):\n",
    "    if value < 0:\n",
    "        raise ValueError(\"Value must be positive\")\n",
    "    return value\n",
    "\n",
    "num = int(input(\"Enter a positive number: \"))\n",
    "checked_value = check_positive(num)\n",
    "print(\"You entered :\", checked_value)"
   ]
  },
  {
   "cell_type": "markdown",
   "id": "3ef1b0b2-ff99-416c-9fc6-cae6c9eb11cf",
   "metadata": {},
   "source": [
    "-------------------------------------------------"
   ]
  },
  {
   "cell_type": "markdown",
   "id": "e2d20687-5bc6-4c9b-b78f-cc58523c16e2",
   "metadata": {},
   "source": [
    "Q5. What are Custom Exceptions in python? Why do we need Custom Exceptions? Explain with an example."
   ]
  },
  {
   "cell_type": "markdown",
   "id": "f0051c7d-5e9c-4efb-8b7a-0d253e627149",
   "metadata": {},
   "source": [
    "Ans - \n",
    "\n",
    "- Custom Exceptions : Custom exceptions are user-defined error classes in Python, created to handle specific error cases not covered by built-in exceptions. They enhance code readability by offering descriptive error messages and improve modularity by organizing related exceptions within modules. Precise error handling is enabled, promoting cleaner separation of concerns. Ultimately, custom exceptions contribute to more robust and maintainable codebases.\n",
    "\n",
    "- Need of Custom Exceptions : Custom exceptions in Python offer descriptive error context, tailored error-handling, and improved code modularity for enhanced maintainability.\n",
    "\n",
    "\n",
    "\n",
    "\n",
    "\n",
    "\n",
    "\n"
   ]
  },
  {
   "cell_type": "code",
   "execution_count": 5,
   "id": "641261c3-597f-47e9-a128-d8994c876f19",
   "metadata": {},
   "outputs": [
    {
     "name": "stdin",
     "output_type": "stream",
     "text": [
      "Enter your age :  80\n"
     ]
    },
    {
     "name": "stdout",
     "output_type": "stream",
     "text": [
      "Valid age.\n"
     ]
    }
   ],
   "source": [
    "class valid_date_age(Exception):\n",
    "    def __init__(self, msg):\n",
    "        self.msg = msg\n",
    "\n",
    "def check_valid_age(age):\n",
    "    if age < 0:\n",
    "        raise valid_date_age(\"Entered age is negative.\")\n",
    "    elif age > 200:\n",
    "        raise valid_date_age(\"Entered age is very very high.\")\n",
    "    else:\n",
    "        print(\"Valid age.\")\n",
    "\n",
    "try:\n",
    "    age = int(input(\"Enter your age : \"))\n",
    "    check_valid_age(age)\n",
    "\n",
    "except valid_date_age as e:\n",
    "    print(e)"
   ]
  },
  {
   "cell_type": "markdown",
   "id": "753a6558-275e-4cbc-9d7e-872b06f27c93",
   "metadata": {},
   "source": [
    "Q6. Create a custom exception class. Use this class to handle an exception."
   ]
  },
  {
   "cell_type": "code",
   "execution_count": 11,
   "id": "189193aa-b1b0-418a-950f-41cfc27e7acb",
   "metadata": {},
   "outputs": [
    {
     "name": "stdin",
     "output_type": "stream",
     "text": [
      "Enter the number :  -5\n"
     ]
    },
    {
     "name": "stdout",
     "output_type": "stream",
     "text": [
      "Error : Entered num is negative.\n"
     ]
    }
   ],
   "source": [
    "class positive_num(Exception):\n",
    "    def __init__(self, msg):\n",
    "        self.msg = msg\n",
    "\n",
    "def check_positive(num):\n",
    "    if (num < 0):\n",
    "        raise positive_num(\"Error : Entered num is negative.\")\n",
    "    else:\n",
    "        raise positive_num(\"Entered num is Positive.\")\n",
    "\n",
    "try:\n",
    "    num = int(input(\"Enter the number : \"))\n",
    "    check_positive(num)\n",
    "\n",
    "except positive_num as e:\n",
    "    print(e)"
   ]
  },
  {
   "cell_type": "code",
   "execution_count": null,
   "id": "9d109fc5-19f6-425d-99c1-2b6b3c412d56",
   "metadata": {},
   "outputs": [],
   "source": []
  }
 ],
 "metadata": {
  "kernelspec": {
   "display_name": "Python 3 (ipykernel)",
   "language": "python",
   "name": "python3"
  },
  "language_info": {
   "codemirror_mode": {
    "name": "ipython",
    "version": 3
   },
   "file_extension": ".py",
   "mimetype": "text/x-python",
   "name": "python",
   "nbconvert_exporter": "python",
   "pygments_lexer": "ipython3",
   "version": "3.10.8"
  }
 },
 "nbformat": 4,
 "nbformat_minor": 5
}
